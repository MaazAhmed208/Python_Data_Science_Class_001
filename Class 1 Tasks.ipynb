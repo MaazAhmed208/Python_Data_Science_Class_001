{
 "cells": [
  {
   "cell_type": "markdown",
   "id": "4e34df87",
   "metadata": {},
   "source": [
    "## Question 01\n",
    "\n",
    "i. Create variables for the following, (please choose variable based on your understanding) \n",
    "    \n",
    "    - Id of the student \n",
    "    - Name of the student \n",
    "    - Course Enrolled: \n",
    "    - Age: \n",
    "    - Marks: (marks range 0 - 15)"
   ]
  },
  {
   "cell_type": "code",
   "execution_count": 2,
   "id": "0f960ee2",
   "metadata": {},
   "outputs": [
    {
     "name": "stdout",
     "output_type": "stream",
     "text": [
      "100 Maaz Data Science 23 15.2\n"
     ]
    }
   ],
   "source": [
    "my_ID = 100\n",
    "name = 'Maaz'\n",
    "Course = 'Data Science'\n",
    "Age = 23\n",
    "Marks = 15.2\n",
    "\n",
    "print(my_ID,name,Course,Age,Marks)"
   ]
  },
  {
   "cell_type": "markdown",
   "id": "eeaf1682",
   "metadata": {},
   "source": [
    "## Question 02\n",
    "\n",
    "- Add\n",
    "- Multipuly \n",
    "- Substract \n",
    "- Divide"
   ]
  },
  {
   "cell_type": "code",
   "execution_count": 6,
   "id": "4199e14e",
   "metadata": {},
   "outputs": [
    {
     "name": "stdout",
     "output_type": "stream",
     "text": [
      "Add 15 \n",
      "Substract 5 \n",
      "Multiply 50 \n",
      "Divide 2.0\n"
     ]
    }
   ],
   "source": [
    "num_1 = 10\n",
    "num_2 = 5      \n",
    "\n",
    "print(\"Add\",num_1 + num_2,\"\\nSubstract\",num_1 - num_2,'\\nMultiply',num_1*num_2,'\\nDivide',num_1/num_2)"
   ]
  },
  {
   "cell_type": "code",
   "execution_count": null,
   "id": "1704039d",
   "metadata": {},
   "outputs": [],
   "source": []
  }
 ],
 "metadata": {
  "kernelspec": {
   "display_name": "Python 3",
   "language": "python",
   "name": "python3"
  },
  "language_info": {
   "codemirror_mode": {
    "name": "ipython",
    "version": 3
   },
   "file_extension": ".py",
   "mimetype": "text/x-python",
   "name": "python",
   "nbconvert_exporter": "python",
   "pygments_lexer": "ipython3",
   "version": "3.8.8"
  }
 },
 "nbformat": 4,
 "nbformat_minor": 5
}
